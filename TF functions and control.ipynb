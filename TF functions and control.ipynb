{
  "nbformat": 4,
  "nbformat_minor": 0,
  "metadata": {
    "colab": {
      "name": "Copy of ece447_hw4.ipynb",
      "version": "0.3.2",
      "provenance": [],
      "collapsed_sections": []
    },
    "language_info": {
      "codemirror_mode": {
        "name": "ipython",
        "version": 3
      },
      "file_extension": ".py",
      "mimetype": "text/x-python",
      "name": "python",
      "nbconvert_exporter": "python",
      "pygments_lexer": "ipython3",
      "version": "3.6.1"
    },
    "kernelspec": {
      "display_name": "Python 3",
      "language": "python",
      "name": "python3"
    }
  },
  "cells": [
    {
      "metadata": {
        "id": "w3fHTQOrekjZ",
        "colab_type": "text"
      },
      "cell_type": "markdown",
      "source": [
        "Homework 4 : Chunguang Xie\n",
        "===\n",
        "\n",
        "Phase Portraits, expoententials, and solutions\n",
        "\n",
        "**<span style=\"color: darkgreen\">Due Sunday April 28 at 11:59pm</span>**\n",
        "\n",
        "**Instructions:** Make a copy of this notebook that you can edit and save. If you are using CoLab, that means clicking File>Save and then \"SAVE A COPY IN DRIVE\". Then, for each problem, insert your answers directly underneath the problem description as one or more `Code` or `Markdown` cells as appropriate. Every code cell should execute without errors. TAs and graders may not have resources to debug your code. When you are satisfied with your answers upload your notebook to canvas. "
      ]
    },
    {
      "metadata": {
        "id": "Y0gkIzyjekji",
        "colab_type": "text"
      },
      "cell_type": "markdown",
      "source": [
        "**Relevant Reading**\n",
        "\n",
        "- Most of the state space and transfer function relationships we have been talking about are in Nise chapters 3 and 4. Block diagrams are in chapter 5."
      ]
    },
    {
      "metadata": {
        "id": "JhLejdRWA6s_",
        "colab_type": "code",
        "colab": {}
      },
      "cell_type": "code",
      "source": [
        "import numpy as np\n",
        "import scipy.integrate as spi\n",
        "import matplotlib.pyplot as plt\n",
        "from sympy import *\n",
        "\n",
        "%matplotlib inline\n",
        "\n",
        "# Comment out in Google colab \n",
        "#init_printing(use_latex='mathjax')\n",
        "\n",
        "# Uncomment in below Google colab to render sympy equations nicely\n",
        "def custom_latex_printer(exp,**options):\n",
        "    from google.colab.output._publish import javascript\n",
        "    url = \"https://cdnjs.cloudflare.com/ajax/libs/mathjax/2.7.3/latest.js?config=default\"\n",
        "    javascript(url=url)\n",
        "    return printing.latex(exp,**options)\n",
        "init_printing(use_latex=\"mathjax\",latex_printer=custom_latex_printer)"
      ],
      "execution_count": 0,
      "outputs": []
    },
    {
      "metadata": {
        "collapsed": true,
        "id": "tBtQeaIxekjj",
        "colab_type": "text"
      },
      "cell_type": "markdown",
      "source": [
        "1. Modeling\n",
        "---\n",
        "\n",
        "Do Nise Ch 2, Problem 62. "
      ]
    },
    {
      "metadata": {
        "id": "g86QHzVVfH18",
        "colab_type": "text"
      },
      "cell_type": "markdown",
      "source": [
        "# Answer:\n",
        "**a:** \\\\\n",
        "Differentiate the solution equation that we get in a: \\\\\n",
        "\n",
        "$\n",
        "\\frac{dv(t)}{dt} = \\frac{d(v_0e^{\\frac{\\lambda}{\\alpha(1-e^{-\\alpha t}\\;)}} \\; \\; )}{dt} \\\\\n",
        " = v_0e^{\\frac{\\lambda}{\\alpha(1-e^{-\\alpha t}\\;)}}\\;\\; *\\;\\; \\lambda / \\alpha(0-(-\\alpha)e^{-\\alpha t}) \\\\\n",
        " = v_0e^{\\frac{\\lambda}{\\alpha(1-e^{-\\alpha t}\\;)}}\\;\\; \\lambda e^{-\\alpha t} \\cdots \\cdots(1)\n",
        "$ \\\\\n",
        "\n",
        "Substitute the solution that we get in a: \\\\\n",
        "$\\frac{dv(t)}{dt} = v(t) \\lambda e^{-\\alpha t} = v_0e^{\\frac{\\lambda}{\\alpha(1-e^{-\\alpha t}\\;)}} \\;\\lambda e^{-\\alpha t} \\cdots \\cdots (2)$ \\\\\n",
        "\n",
        "By comparing equations (1) and (2), we can see that (1) and (2) are equal. So the solution for the give equation is verified. \\\\\n",
        "\n",
        "**b.** \\\\\n",
        "Apply limit $t \\to \\infty$ for the equation that we have in a: \\\\\n",
        "$\\lim_{t \\to \\infty } v(t) = \\lim_{t \\to \\infty} (v_0e^{\\frac{\\lambda}{\\alpha(1-e^{-\\alpha t}\\;)}}\\;) \\\\\n",
        "v(\\infty) = (v_0e^{\\frac{\\lambda}{\\alpha(1-e^{-\\alpha \\infty}\\;\\;)}}\\;) \\\\\n",
        "v(\\infty) = (v_0e^{\\frac{\\lambda}{\\alpha(1-0)}}\\;) \\\\\n",
        "v(\\infty) = v_0e^{\\frac{\\lambda}{\\alpha}} \\cdots\\cdots (3) $ \\\\\n",
        "Thus, the final predicted tumor volume is $\\fbox{$v(\\infty) = v_0e^{\\frac{\\lambda}{\\alpha}}$}$ \\\\\n",
        "\n",
        "**c.** \\\\\n",
        "Substitute the values into the equation that we have in a, we get this plot: \\\\"
      ]
    },
    {
      "metadata": {
        "id": "_SGdRKHLre_r",
        "colab_type": "code",
        "outputId": "30bab187-ba16-48d7-a0cc-f41994ecf423",
        "colab": {
          "base_uri": "https://localhost:8080/",
          "height": 418
        }
      },
      "cell_type": "code",
      "source": [
        "import numpy as np\n",
        "import scipy.integrate as spi\n",
        "import matplotlib.pyplot as plt\n",
        "import math\n",
        "%matplotlib inline\n",
        "\n",
        "#def f(x,t):\n",
        "#    a = (2.5)/(0.1 * (1 - np.exp(t)))\n",
        "#    return 0.05 * np.exp(a)\n",
        "\n",
        "t = np.linspace(0,100,20)\n",
        "#x = spi.odeint(f,0.05,t);\n",
        "#equ = 0.05 * np.exp((2.5)/ (0.1*(1-np.exp(-0.1 * t))))\n",
        "\n",
        "x = 0.05 * np.exp((2.5)/(0.1*(1-np.exp(-0.1 * t))))\n",
        "print(x)\n",
        "plt.plot(t,x,label=\"$y(t)$\");\n",
        "\n",
        "plt.xlabel('$t$')\n",
        "plt.ylabel('$y(t)$')\n",
        "plt.legend();"
      ],
      "execution_count": 0,
      "outputs": [
        {
          "output_type": "stream",
          "text": [
            "/usr/local/lib/python3.6/dist-packages/ipykernel_launcher.py:15: RuntimeWarning: divide by zero encountered in true_divide\n",
            "  from ipykernel import kernelapp as app\n"
          ],
          "name": "stderr"
        },
        {
          "output_type": "stream",
          "text": [
            "[           inf 1.70080642e+25 2.38456119e+15 2.37978333e+12\n",
            " 1.15441362e+11 2.50189522e+10 1.09252394e+10 6.85586658e+09\n",
            " 5.24645852e+09 4.49109799e+09 4.10066445e+09 3.88734512e+09\n",
            " 3.76697455e+09 3.69775822e+09 3.65751309e+09 3.63395964e+09\n",
            " 3.62012180e+09 3.61197346e+09 3.60716892e+09 3.60433374e+09]\n"
          ],
          "name": "stdout"
        },
        {
          "output_type": "display_data",
          "data": {
            "image/png": "[encoded data removed]",
            "text/plain": [
              "<Figure size 432x288 with 1 Axes>"
            ]
          },
          "metadata": {
            "tags": []
          }
        }
      ]
    },
    {
      "metadata": {
        "id": "L0DZvYsQ6idn",
        "colab_type": "text"
      },
      "cell_type": "markdown",
      "source": [
        "**d.** \\\\\n",
        "Substitute 2.5 for $\\lambda$, 0.1 for $\\alpha$, and $50 \\times 10^{-3}$ for $v_0$ in equation (3) from part b: \\\\\n",
        "$v(\\infty) = 50 \\times 10^{-3} e^{\\frac{2.5}{0.1}} \\\\\n",
        "v(\\infty) = 3.600 \\times 10^9 mm^3 \\cdots\\cdots (4)$ \\\\\n",
        "\n",
        "Comparing this value (4) to the last value that we get in drawing the figure in (c), which is $3.60433374 \\times 10^9 mm^3$ \\\\\n",
        "We can conclude that they're **basically equal**. \\\\\n",
        "Thus the value of $v(\\infty)$ is $\\fbox{$3.600 \\times 10^9 mm^3$}$"
      ]
    },
    {
      "metadata": {
        "id": "fM19iZ5bekjk",
        "colab_type": "text"
      },
      "cell_type": "markdown",
      "source": [
        "2. Transfer Functions from State Space\n",
        "---\n",
        "\n",
        "Do Nise Ch 3, problems 14 and 15. Use Python and sympy instead of MATLAB."
      ]
    },
    {
      "metadata": {
        "id": "ImnDa1m7_nUG",
        "colab_type": "text"
      },
      "cell_type": "markdown",
      "source": [
        "# Answer:\n",
        "**problem14:** \\\\\n",
        "**a.** \\\\\n"
      ]
    },
    {
      "metadata": {
        "id": "XVN6ODUR_6Lr",
        "colab_type": "code",
        "outputId": "c1f06e72-804f-47eb-e10b-915be0c755c8",
        "colab": {
          "base_uri": "https://localhost:8080/",
          "height": 78
        }
      },
      "cell_type": "code",
      "source": [
        "var(\"s\")\n",
        "A = Matrix([[0,1,0],[0,0,1],[-3,-2,-5]])\n",
        "B = Matrix([[0],[0],[10]])\n",
        "C = Matrix([[1,0,0]])\n",
        "Phi = (s*eye(3)-A).inv()\n",
        "T = C*Phi*B\n",
        "T.simplify()\n",
        "T"
      ],
      "execution_count": 0,
      "outputs": [
        {
          "output_type": "display_data",
          "data": {
            "text/html": [
              "<script src='https://cdnjs.cloudflare.com/ajax/libs/mathjax/2.7.3/latest.js?config=default'></script>"
            ],
            "text/plain": [
              "<IPython.core.display.HTML object>"
            ]
          },
          "metadata": {
            "tags": []
          }
        },
        {
          "output_type": "execute_result",
          "data": {
            "text/latex": "$$\\left[\\begin{matrix}\\frac{10}{s^{3} + 5 s^{2} + 2 s + 3}\\end{matrix}\\right]$$",
            "text/plain": [
              "⎡         10        ⎤\n",
              "⎢───────────────────⎥\n",
              "⎢ 3      2          ⎥\n",
              "⎣s  + 5⋅s  + 2⋅s + 3⎦"
            ]
          },
          "metadata": {
            "tags": []
          },
          "execution_count": 5
        }
      ]
    },
    {
      "metadata": {
        "id": "pfuDce5ABSnD",
        "colab_type": "text"
      },
      "cell_type": "markdown",
      "source": [
        "**b.**"
      ]
    },
    {
      "metadata": {
        "id": "q3CYvbgqBPRj",
        "colab_type": "code",
        "outputId": "c9b8684b-3e5c-465e-b86a-57e1d834b3ee",
        "colab": {
          "base_uri": "https://localhost:8080/",
          "height": 78
        }
      },
      "cell_type": "code",
      "source": [
        "var(\"s\")\n",
        "A = Matrix([[2,-3,-8],[0,5,3],[-3,-5,-4]])\n",
        "B = Matrix([[1],[4],[6]])\n",
        "C = Matrix([[1,3,6]])\n",
        "Phi = (s*eye(3)-A).inv()\n",
        "T = C*Phi*B\n",
        "T.simplify()\n",
        "T"
      ],
      "execution_count": 0,
      "outputs": [
        {
          "output_type": "display_data",
          "data": {
            "text/html": [
              "<script src='https://cdnjs.cloudflare.com/ajax/libs/mathjax/2.7.3/latest.js?config=default'></script>"
            ],
            "text/plain": [
              "<IPython.core.display.HTML object>"
            ]
          },
          "metadata": {
            "tags": []
          }
        },
        {
          "output_type": "execute_result",
          "data": {
            "text/latex": "$$\\left[\\begin{matrix}\\frac{49 s^{2} - 373 s + 680}{s^{3} - 3 s^{2} - 27 s + 103}\\end{matrix}\\right]$$",
            "text/plain": [
              "⎡     2                ⎤\n",
              "⎢ 49⋅s  - 373⋅s + 680  ⎥\n",
              "⎢──────────────────────⎥\n",
              "⎢ 3      2             ⎥\n",
              "⎣s  - 3⋅s  - 27⋅s + 103⎦"
            ]
          },
          "metadata": {
            "tags": []
          },
          "execution_count": 6
        }
      ]
    },
    {
      "metadata": {
        "id": "jnMlW5ZxBySL",
        "colab_type": "text"
      },
      "cell_type": "markdown",
      "source": [
        "**c.**"
      ]
    },
    {
      "metadata": {
        "id": "xtv5rQ2_BzlF",
        "colab_type": "code",
        "outputId": "f716ef3c-e77c-429e-d2bb-f33cf27b32ac",
        "colab": {
          "base_uri": "https://localhost:8080/",
          "height": 78
        }
      },
      "cell_type": "code",
      "source": [
        "var(\"s\")\n",
        "A = Matrix([[3,-5,2],[1,-8,7],[-3,-6,2]])\n",
        "B = Matrix([[5],[-3],[2]])\n",
        "C = Matrix([[1,-4,3]])\n",
        "Phi = (s*eye(3)-A).inv()\n",
        "T = C*Phi*B\n",
        "T.simplify()\n",
        "T"
      ],
      "execution_count": 0,
      "outputs": [
        {
          "output_type": "display_data",
          "data": {
            "text/html": [
              "<script src='https://cdnjs.cloudflare.com/ajax/libs/mathjax/2.7.3/latest.js?config=default'></script>"
            ],
            "text/plain": [
              "<IPython.core.display.HTML object>"
            ]
          },
          "metadata": {
            "tags": []
          }
        },
        {
          "output_type": "execute_result",
          "data": {
            "text/latex": "$$\\left[\\begin{matrix}\\frac{23 s^{2} - 48 s - 7}{s^{3} + 3 s^{2} + 19 s - 133}\\end{matrix}\\right]$$",
            "text/plain": [
              "⎡       2              ⎤\n",
              "⎢   23⋅s  - 48⋅s - 7   ⎥\n",
              "⎢──────────────────────⎥\n",
              "⎢ 3      2             ⎥\n",
              "⎣s  + 3⋅s  + 19⋅s - 133⎦"
            ]
          },
          "metadata": {
            "tags": []
          },
          "execution_count": 7
        }
      ]
    },
    {
      "metadata": {
        "id": "H6dfuyG2CGiQ",
        "colab_type": "text"
      },
      "cell_type": "markdown",
      "source": [
        "**Problem15:** \\\\\n",
        "**a.**"
      ]
    },
    {
      "metadata": {
        "id": "A7UPzF-dCPiJ",
        "colab_type": "code",
        "outputId": "add2c184-6fb0-4613-a9bf-a3af51589fbe",
        "colab": {
          "base_uri": "https://localhost:8080/",
          "height": 34
        }
      },
      "cell_type": "code",
      "source": [
        "var(\"s\")\n",
        "A = Matrix([[0,1,5,0],[0,0,1,0],[0,0,0,1],[-7,-9,-2,-3]])\n",
        "B = Matrix([[0],[5],[8],[2]])\n",
        "C = Matrix([[1,3,6,6]])\n",
        "Phi = (s*eye(4)-A).inv()\n",
        "T = C*Phi*B\n",
        "T.simplify()\n",
        "T"
      ],
      "execution_count": 0,
      "outputs": [
        {
          "output_type": "display_data",
          "data": {
            "text/html": [
              "<script src='https://cdnjs.cloudflare.com/ajax/libs/mathjax/2.7.3/latest.js?config=default'></script>"
            ],
            "text/plain": [
              "<IPython.core.display.HTML object>"
            ]
          },
          "metadata": {
            "tags": []
          }
        },
        {
          "output_type": "execute_result",
          "data": {
            "text/latex": "$$\\left[\\begin{matrix}\\frac{3 \\left(25 s^{3} - 32 s^{2} - 777 s - 70\\right)}{s^{4} + 3 s^{3} + 2 s^{2} + 44 s + 7}\\end{matrix}\\right]$$",
            "text/plain": [
              "⎡  ⎛    3       2             ⎞⎤\n",
              "⎢3⋅⎝25⋅s  - 32⋅s  - 777⋅s - 70⎠⎥\n",
              "⎢──────────────────────────────⎥\n",
              "⎢  4      3      2             ⎥\n",
              "⎣ s  + 3⋅s  + 2⋅s  + 44⋅s + 7  ⎦"
            ]
          },
          "metadata": {
            "tags": []
          },
          "execution_count": 12
        }
      ]
    },
    {
      "metadata": {
        "id": "rMXwl7VoCxu7",
        "colab_type": "text"
      },
      "cell_type": "markdown",
      "source": [
        "**b.**"
      ]
    },
    {
      "metadata": {
        "id": "LfTPm2CaCxSt",
        "colab_type": "code",
        "outputId": "88cf225f-3073-4306-d36b-695e7a2cb091",
        "colab": {
          "base_uri": "https://localhost:8080/",
          "height": 34
        }
      },
      "cell_type": "code",
      "source": [
        "var(\"s\")\n",
        "A = Matrix([[3,1,0,4,-2],[-3,5,-5,2,-1],[0,1,-1,2,8],[-7,6,-3,-4,0],[-6,0,4,-3,1]])\n",
        "B = Matrix([[2],[7],[8],[5],[4]])\n",
        "C = Matrix([[1,-2,-9,7,6]])\n",
        "Phi = (s*eye(5)-A).inv()\n",
        "T = C*Phi*B\n",
        "T.simplify()\n",
        "T"
      ],
      "execution_count": 0,
      "outputs": [
        {
          "output_type": "display_data",
          "data": {
            "text/html": [
              "<script src='https://cdnjs.cloudflare.com/ajax/libs/mathjax/2.7.3/latest.js?config=default'></script>"
            ],
            "text/plain": [
              "<IPython.core.display.HTML object>"
            ]
          },
          "metadata": {
            "tags": []
          }
        },
        {
          "output_type": "execute_result",
          "data": {
            "text/latex": "$$\\left[\\begin{matrix}\\frac{- 25 s^{4} - 292 s^{3} + 1680 s^{2} + 16282 s + 31875}{s^{5} - 4 s^{4} - 32 s^{3} + 148 s^{2} - 1153 s - 4480}\\end{matrix}\\right]$$",
            "text/plain": [
              "⎡      4        3         2                  ⎤\n",
              "⎢- 25⋅s  - 292⋅s  + 1680⋅s  + 16282⋅s + 31875⎥\n",
              "⎢────────────────────────────────────────────⎥\n",
              "⎢  5      4       3        2                 ⎥\n",
              "⎣ s  - 4⋅s  - 32⋅s  + 148⋅s  - 1153⋅s - 4480 ⎦"
            ]
          },
          "metadata": {
            "tags": []
          },
          "execution_count": 11
        }
      ]
    },
    {
      "metadata": {
        "id": "yOgzRuI8ekjl",
        "colab_type": "text"
      },
      "cell_type": "markdown",
      "source": [
        "3. Diabetes Example\n",
        "---\n",
        "\n",
        "Do Nise Ch 3, problem 24."
      ]
    },
    {
      "metadata": {
        "id": "LzDP9ZVX1JyA",
        "colab_type": "text"
      },
      "cell_type": "markdown",
      "source": [
        "# Answer for 7th version:\n",
        "There're four possible transfer functions on this case, which are \\\\\n",
        "$\\frac{z(s)}{\\delta_B(s)}, \\frac{\\theta(s)}{\\delta_B(s)}, \\frac{z(s)}{\\delta_s(s)}, \\frac{\\theta(s)}{\\delta_s(s)}$ \\\\\n",
        "\n",
        "Here's the transfer function for $\\frac{z(s)}{\\delta_B(s)}$ :"
      ]
    },
    {
      "metadata": {
        "id": "ltdNegTwHCMt",
        "colab_type": "code",
        "outputId": "a99fdaca-787a-4cec-8094-2d767e31171e",
        "colab": {
          "base_uri": "https://localhost:8080/",
          "height": 78
        }
      },
      "cell_type": "code",
      "source": [
        "var(\"s\")\n",
        "A = Matrix([[-0.038,0.896,0,0.0015],[0.0017,-0.092,0,-0.0056],[1,0,0,-3.086],[0,1,0,0]])\n",
        "B = Matrix([[-0.0075],[0.0017],[0],[0]])\n",
        "C = Matrix([[0,0,1,0]])\n",
        "Phi = (s*eye(4)-A).inv()\n",
        "T = C*Phi*B\n",
        "T.simplify()\n",
        "T"
      ],
      "execution_count": 0,
      "outputs": [
        {
          "output_type": "display_data",
          "data": {
            "text/html": [
              "<script src='https://cdnjs.cloudflare.com/ajax/libs/mathjax/2.7.3/latest.js?config=default'></script>"
            ],
            "text/plain": [
              "<IPython.core.display.HTML object>"
            ]
          },
          "metadata": {
            "tags": []
          }
        },
        {
          "output_type": "execute_result",
          "data": {
            "text/latex": "$$\\left[\\begin{matrix}- \\frac{0.0075 s^{2} + 0.004413 s + 0.0001994591}{s \\left(1.0 s^{3} + 0.13 s^{2} + 0.0075728 s + 0.00021025\\right)}\\end{matrix}\\right]$$",
            "text/plain": [
              "⎡    ⎛        2                            ⎞    ⎤\n",
              "⎢   -⎝0.0075⋅s  + 0.004413⋅s + 0.0001994591⎠    ⎥\n",
              "⎢───────────────────────────────────────────────⎥\n",
              "⎢  ⎛     3         2                           ⎞⎥\n",
              "⎣s⋅⎝1.0⋅s  + 0.13⋅s  + 0.0075728⋅s + 0.00021025⎠⎦"
            ]
          },
          "metadata": {
            "tags": []
          },
          "execution_count": 13
        }
      ]
    },
    {
      "metadata": {
        "id": "fTXTUGu-3NBt",
        "colab_type": "text"
      },
      "cell_type": "markdown",
      "source": [
        "Here's the second transfer function for $\\frac{\\theta(s)}{\\delta_B(s)}$ :"
      ]
    },
    {
      "metadata": {
        "id": "a7jLz-8q3YrQ",
        "colab_type": "code",
        "outputId": "d028b663-121a-441f-c35a-7d0a57503107",
        "colab": {
          "base_uri": "https://localhost:8080/",
          "height": 78
        }
      },
      "cell_type": "code",
      "source": [
        "var(\"s\")\n",
        "A = Matrix([[-0.038,0.896,0,0.0015],[0.0017,-0.092,0,-0.0056],[1,0,0,-3.086],[0,1,0,0]])\n",
        "B = Matrix([[-0.0075],[0.0017],[0],[0]])\n",
        "C = Matrix([[0,0,0,1]])\n",
        "Phi = (s*eye(4)-A).inv()\n",
        "T = C*Phi*B\n",
        "T.simplify()\n",
        "T"
      ],
      "execution_count": 0,
      "outputs": [
        {
          "output_type": "display_data",
          "data": {
            "text/html": [
              "<script src='https://cdnjs.cloudflare.com/ajax/libs/mathjax/2.7.3/latest.js?config=default'></script>"
            ],
            "text/plain": [
              "<IPython.core.display.HTML object>"
            ]
          },
          "metadata": {
            "tags": []
          }
        },
        {
          "output_type": "execute_result",
          "data": {
            "text/latex": "$$\\left[\\begin{matrix}\\frac{0.0017 s + 5.185 \\cdot 10^{-5}}{s \\left(\\left(s + 0.038\\right) \\left(s + 0.092\\right) - 0.0015232\\right) + 0.0056 s + 0.00021025}\\end{matrix}\\right]$$",
            "text/plain": [
              "⎡                      0.0017⋅s + 5.185e-5                      ⎤\n",
              "⎢───────────────────────────────────────────────────────────────⎥\n",
              "⎣s⋅((s + 0.038)⋅(s + 0.092) - 0.0015232) + 0.0056⋅s + 0.00021025⎦"
            ]
          },
          "metadata": {
            "tags": []
          },
          "execution_count": 14
        }
      ]
    },
    {
      "metadata": {
        "id": "RCAh52kV4UkC",
        "colab_type": "text"
      },
      "cell_type": "markdown",
      "source": [
        "Here's the third transfer function for $\\frac{z(s)}{\\delta_s(s)}$ :"
      ]
    },
    {
      "metadata": {
        "id": "06w6H2wl40IO",
        "colab_type": "code",
        "outputId": "914c43b2-0342-464c-9eca-e260844bc13c",
        "colab": {
          "base_uri": "https://localhost:8080/",
          "height": 78
        }
      },
      "cell_type": "code",
      "source": [
        "var(\"s\")\n",
        "A = Matrix([[-0.038,0.896,0,0.0015],[0.0017,-0.092,0,-0.0056],[1,0,0,-3.086],[0,1,0,0]])\n",
        "B = Matrix([[-0.023],[-0.0022],[0],[0]])\n",
        "C = Matrix([[0,0,1,0]])\n",
        "Phi = (s*eye(4)-A).inv()\n",
        "T = C*Phi*B\n",
        "T.simplify()\n",
        "T"
      ],
      "execution_count": 0,
      "outputs": [
        {
          "output_type": "display_data",
          "data": {
            "text/html": [
              "<script src='https://cdnjs.cloudflare.com/ajax/libs/mathjax/2.7.3/latest.js?config=default'></script>"
            ],
            "text/plain": [
              "<IPython.core.display.HTML object>"
            ]
          },
          "metadata": {
            "tags": []
          }
        },
        {
          "output_type": "execute_result",
          "data": {
            "text/latex": "$$\\left[\\begin{matrix}\\frac{- 0.023 s^{2} + 0.002702 s + 0.0002465522}{s \\left(1.0 s^{3} + 0.13 s^{2} + 0.0075728 s + 0.00021025\\right)}\\end{matrix}\\right]$$",
            "text/plain": [
              "⎡              2                                ⎤\n",
              "⎢     - 0.023⋅s  + 0.002702⋅s + 0.0002465522    ⎥\n",
              "⎢───────────────────────────────────────────────⎥\n",
              "⎢  ⎛     3         2                           ⎞⎥\n",
              "⎣s⋅⎝1.0⋅s  + 0.13⋅s  + 0.0075728⋅s + 0.00021025⎠⎦"
            ]
          },
          "metadata": {
            "tags": []
          },
          "execution_count": 15
        }
      ]
    },
    {
      "metadata": {
        "id": "ASbaZWxr5Wb-",
        "colab_type": "text"
      },
      "cell_type": "markdown",
      "source": [
        "Here's the fourth transfer function for $\\frac{\\theta(s)}{\\delta_s(s)}$ :"
      ]
    },
    {
      "metadata": {
        "id": "14u1G1zs5fVE",
        "colab_type": "code",
        "outputId": "1d04239b-9ff9-4004-c0ad-251812fe3df8",
        "colab": {
          "base_uri": "https://localhost:8080/",
          "height": 78
        }
      },
      "cell_type": "code",
      "source": [
        "var(\"s\")\n",
        "A = Matrix([[-0.038,0.896,0,0.0015],[0.0017,-0.092,0,-0.0056],[1,0,0,-3.086],[0,1,0,0]])\n",
        "B = Matrix([[-0.023],[-0.0022],[0],[0]])\n",
        "C = Matrix([[0,0,0,1]])\n",
        "Phi = (s*eye(4)-A).inv()\n",
        "T = C*Phi*B\n",
        "T.simplify()\n",
        "T"
      ],
      "execution_count": 0,
      "outputs": [
        {
          "output_type": "display_data",
          "data": {
            "text/html": [
              "<script src='https://cdnjs.cloudflare.com/ajax/libs/mathjax/2.7.3/latest.js?config=default'></script>"
            ],
            "text/plain": [
              "<IPython.core.display.HTML object>"
            ]
          },
          "metadata": {
            "tags": []
          }
        },
        {
          "output_type": "execute_result",
          "data": {
            "text/latex": "$$\\left[\\begin{matrix}- \\frac{0.0022 s + 0.0001227}{s \\left(\\left(s + 0.038\\right) \\left(s + 0.092\\right) - 0.0015232\\right) + 0.0056 s + 0.00021025}\\end{matrix}\\right]$$",
            "text/plain": [
              "⎡                    -(0.0022⋅s + 0.0001227)                    ⎤\n",
              "⎢───────────────────────────────────────────────────────────────⎥\n",
              "⎣s⋅((s + 0.038)⋅(s + 0.092) - 0.0015232) + 0.0056⋅s + 0.00021025⎦"
            ]
          },
          "metadata": {
            "tags": []
          },
          "execution_count": 16
        }
      ]
    },
    {
      "metadata": {
        "id": "etCxpsA-ekjl",
        "colab_type": "text"
      },
      "cell_type": "markdown",
      "source": [
        "4. Endocrine system\n",
        "---\n",
        "\n",
        "Do Nise Ch 3, problem 25.\n"
      ]
    },
    {
      "metadata": {
        "id": "br8So0lXKplW",
        "colab_type": "text"
      },
      "cell_type": "markdown",
      "source": [
        "# Answer:\n",
        ">$G(s) = \\frac{s+c}{(s^2+as+b)(s+d)} = \\frac{s+c}{(s^3+ds^2+as^2+ads+bs+bd)} \\\\\n",
        "\\; \\; \\; \\; \\; \\; \\; =\\frac{s+c}{(s^3+(a+d)s^2+(b+ad)s+bd)} \\cdots(1)$ \\\\\n",
        "$\\xrightarrow{\\text{R(s)}} \\fbox{$\\frac{s+c}{(s^3+(a+d)s^2+(b+ad)s+bd)}$}\\xrightarrow{\\text{Y(s)}}$ \\\\\n",
        "\n",
        "From the system above, we could seperate the system into two cascaded blocks as shown below: \\\\\n",
        ">$\\xrightarrow{\\text{R(s)}} \\fbox{$\\frac{1}{(s^3+(a+d)s^2+(b+ad)s+bd)}$}\\xrightarrow{\\text{W(s)}} \\fbox{s+c} \\xrightarrow{\\text{Y(s)}}$ \\\\\n",
        "\n",
        "From the system above we have \\\\\n",
        ">$\\frac{W(s)}{R(s)} = \\frac{1}{(s^3+(a+d)s^2+(b+ad)s+bd)} \\cdots(2) \\\\\n",
        "\\frac{(Y(s))}{R(s)} = s+c \\cdots(3)$ \\\\\n",
        "\n",
        "Rearrange Equation(2) \\\\\n",
        ">$W(s)(s^3+(a+d)s^2+(b+ad)s+bd) = R(s) \\\\\n",
        "W(s)s^3+(a+d)W(s)s^2+(b+ad)W(s)s+bdW(s) = R(s) \\cdots(4)$ \\\\\n",
        "\n",
        "Rearrange Equation(3) \\\\\n",
        ">$W(s)(s+c) = Y(s) \\\\\n",
        "sW(s) + cW(s) = Y(s) \\cdots(5)$ \\\\\n",
        "\n",
        "Take the inverse Laplace for Equation(4) \\\\\n",
        "\n",
        ">$\\dddot{w}+(a+d)\\ddot{w}+(b+ad)\\dot{w}+bdw = r \\cdots(6)$ \\\\\n",
        "\n",
        "Take the inverse Laplace for Equation(5) \\\\\n",
        "\n",
        ">$\\dot w +cw = y \\cdots (7)$ \\\\\n",
        "\n",
        "Define the state variables: \\\\\n",
        "\n",
        ">$x_1 = w \\cdots(8)$ \\\\\n",
        "$x_2 = \\dot w = \\dot x_1 \\cdots(9)$ \\\\\n",
        "$x_3 = \\ddot{w} = \\dot x_2 \\cdots(10)$ \\\\\n",
        "\n",
        "Substitute (8), (9), (10) in equation (6) and (7), we get \\\\\n",
        "\n",
        ">$y = cx_1 + x_2 \\cdots(11)$ \\\\\n",
        "\n",
        "Form the state matrix according to the equations, we have the answer (state matrix and output matrix): \\\\\n",
        "$$\\begin{align}\n",
        "\\begin{pmatrix}\n",
        "\\dot x_1 \\\\\n",
        "\\dot x_2 \\\\\n",
        "\\dot x_3 \n",
        "\\end{pmatrix} & = \\begin{pmatrix}\n",
        "0 & 1 & 0 \\\\\n",
        "0 & 0 & 1\\\\\n",
        "-bd & -(b+ad) & -(a+d)\n",
        "\\end{pmatrix}\\begin{pmatrix}\n",
        " x_1 \\\\\n",
        " x_2 \\\\\n",
        " x_3 \n",
        "\\end{pmatrix} + \\begin{pmatrix}\n",
        "0 \\\\\n",
        "0 \\\\\n",
        "1\n",
        "\\end{pmatrix}r \\\\\n",
        "y & = \\begin{pmatrix}\n",
        "c & 1 & 0 \n",
        "\\end{pmatrix} \\begin{pmatrix}\n",
        "x_1 \\\\\n",
        "x_2 \\\\\n",
        "x_3\n",
        "\\end{pmatrix} \\\\\n",
        "y & = \\begin{pmatrix}\n",
        "c & 1 & 0 \n",
        "\\end{pmatrix} x\n",
        "\\end{align}$$"
      ]
    },
    {
      "metadata": {
        "id": "hYY5vZapekjm",
        "colab_type": "text"
      },
      "cell_type": "markdown",
      "source": [
        "5. Representations\n",
        "---\n",
        "\n",
        "Do Nise Ch 3, problem 28. Use `sympy`."
      ]
    },
    {
      "metadata": {
        "id": "wInhBYDCp2zj",
        "colab_type": "text"
      },
      "cell_type": "markdown",
      "source": [
        "# Answer:\n",
        "According to the DC motor schematic shown in the textbook, \\\\\n",
        ">$v_b(t) = K_b \\frac{d \\theta_m (t)}{dt}$ \\\\\n",
        "\n",
        "Where \\\\\n",
        ">$v_b(t)$ is the back electromagnatic force, \\\\\n",
        ">$K_b$ is a constant of back emf, \\\\\n",
        ">$\\frac{d \\theta_m (t)}{dt}$ is the angular velocity of the motor \\\\\n",
        "\n",
        "Apply Laplace Transform, we have \\\\\n",
        "\n",
        ">$v_b(s) = K_bs \\theta_m(s) \\cdots (1)$ \\\\\n",
        "\n",
        "The torque developed by the motor is directly proportional to the current by: \\\\\n",
        "\n",
        ">$I_a(s) = \\frac{1}{K_t} T_m(s) \\cdots (2)$ \\\\\n",
        "\n",
        "Where, \\\\\n",
        "\n",
        ">$ T_m(s)$ is the torque developed by the motor, \\\\\n",
        ">$K_t$ is the torque constant \\\\\n",
        "\n",
        "Apply Kirchhoff's voltage law to the dc motor, we have \\\\\n",
        "\n",
        ">$E_a = (R_a+L_as)I_a+v_b(s)$ \\\\\n",
        "\n",
        "Substitute (1) and (2) into this equation, we have \\\\\n",
        "\n",
        ">$E_a = (R_a+L_as)\\frac{1}{K_t} T_m(s)+K_bs \\theta_m(s) \\cdots (3)$ \\\\\n",
        "\n",
        "According to the mechanical loading in Figure 2.36 in the textbook, we could write the motion equation at $\\theta_1(s)$: \\\\\n",
        "\n",
        "\n",
        ">$T_m =( J_ms^2 + D_ms + k_m) \\Theta_m \\cdots (4)$ \\\\\n",
        "\n",
        "Where, \\\\\n",
        "\n",
        ">$D_m$ is the equivalent viscus damping at the armature, \\\\\n",
        "\n",
        ">$K_m$ is the equivalent spring at the amature \\\\\n",
        "\n",
        "Using these equations, it's enough for us to find the state space representation without finding the transfer function for problem 65 in chapter 2. We rewrite (3) and (4) as : \\\\\n",
        "\n",
        "> $E_a = (R_a+L_as)I_a+k_bs \\Theta_m\\cdots (5)$ \\\\\n",
        "> $k_tI_a =( J_ms^2 + D_ms + k_m) \\Theta_m \\cdots (6)$ \\\\\n",
        "\n",
        "Using the defined state variables, we have \\\\\n",
        "Equation (5) will get transformed to the state space equation of $x_3$ and the equation (6) to $x_2$. Thus we have \\\\\n",
        "\n",
        "\n",
        "> $\\dot x_1 = x_2$ \\\\\n",
        "> $\\dot x_2 = \\frac{1}{J_m} (k_tx_3-D_mx_2-k_mx_1)$ \\\\\n",
        "> $x_3 = \\frac{1}{L_a} (-k_bx_2-R_ax_3 + u)$ \\\\\n",
        "\n",
        "Using sympy to transform the equations into state space representation: \\\\\n",
        "\n",
        "\n",
        "\n",
        "\n",
        "\n",
        "\n"
      ]
    },
    {
      "metadata": {
        "id": "qnz7V7q4LheX",
        "colab_type": "code",
        "outputId": "30aa1c77-5963-4224-98ab-30b18188b289",
        "colab": {
          "base_uri": "https://localhost:8080/",
          "height": 125
        }
      },
      "cell_type": "code",
      "source": [
        "var(\"km, Jm, Dm, kt, Ra, kb, La\")\n",
        "A = Matrix([\n",
        "    [0,1,0],\n",
        "    [-km/Jm,-Dm/Jm,kt/Jm],\n",
        "    [0,-kb/La,-Ra/La]])\n",
        "B = Matrix([[0],[0],[1/La]])\n",
        "C = Matrix([[1,0,0]])\n",
        "A,B,C"
      ],
      "execution_count": 0,
      "outputs": [
        {
          "output_type": "display_data",
          "data": {
            "text/html": [
              "<script src='https://cdnjs.cloudflare.com/ajax/libs/mathjax/2.7.3/latest.js?config=default'></script>"
            ],
            "text/plain": [
              "<IPython.core.display.HTML object>"
            ]
          },
          "metadata": {
            "tags": []
          }
        },
        {
          "output_type": "execute_result",
          "data": {
            "text/latex": "$$\\left ( \\left[\\begin{matrix}0 & 1 & 0\\\\- \\frac{km}{Jm} & - \\frac{Dm}{Jm} & \\frac{kt}{Jm}\\\\0 & - \\frac{kb}{La} & - \\frac{Ra}{La}\\end{matrix}\\right], \\quad \\left[\\begin{matrix}0\\\\0\\\\\\frac{1}{La}\\end{matrix}\\right], \\quad \\left[\\begin{matrix}1 & 0 & 0\\end{matrix}\\right]\\right )$$",
            "text/plain": [
              "⎛⎡ 0     1     0  ⎤                 ⎞\n",
              "⎜⎢                ⎥  ⎡0 ⎤           ⎟\n",
              "⎜⎢-km   -Dm    kt ⎥  ⎢  ⎥           ⎟\n",
              "⎜⎢────  ────   ── ⎥  ⎢0 ⎥           ⎟\n",
              "⎜⎢ Jm    Jm    Jm ⎥, ⎢  ⎥, [1  0  0]⎟\n",
              "⎜⎢                ⎥  ⎢1 ⎥           ⎟\n",
              "⎜⎢      -kb   -Ra ⎥  ⎢──⎥           ⎟\n",
              "⎜⎢ 0    ────  ────⎥  ⎣La⎦           ⎟\n",
              "⎝⎣       La    La ⎦                 ⎠"
            ]
          },
          "metadata": {
            "tags": []
          },
          "execution_count": 26
        }
      ]
    },
    {
      "metadata": {
        "id": "KaqXTC5yTgQV",
        "colab_type": "text"
      },
      "cell_type": "markdown",
      "source": [
        "So the state space representation is: \\\\\n",
        "\n",
        " $$\\dot x = \\begin{pmatrix}\n",
        "0 & 1 & 0 \\\\\n",
        "-\\frac{k_m}{J_m} & -\\frac{D_m}{J_m} & \\frac{k_t}{J_m}\\\\\n",
        "0 & -\\frac{k_b}{L_a} &-\\frac{R_a}{L_a}\n",
        "\\end{pmatrix}+ \\begin{pmatrix}\n",
        "0 \\\\\n",
        "0 \\\\\n",
        "\\frac{1}{L_a}\n",
        "\\end{pmatrix} u$$ \\\\\n",
        "\n",
        "\n",
        ">$$y = \\begin{pmatrix}\n",
        "1 & 0 & 0\n",
        "\\end{pmatrix} x$$\n",
        "\n",
        "\n",
        "\n"
      ]
    },
    {
      "metadata": {
        "id": "gZi9NJOwekjn",
        "colab_type": "text"
      },
      "cell_type": "markdown",
      "source": [
        "6. Control of HIV/AIDS\n",
        "---\n",
        "\n",
        "Do Nise Ch 3, problem 31"
      ]
    },
    {
      "metadata": {
        "id": "KhjkWf-7VgpG",
        "colab_type": "text"
      },
      "cell_type": "markdown",
      "source": [
        "# Answer:\n",
        "**a.** \\\\\n",
        "Given at equilibrium point, $u_{10}, u_{20} = 0$ \\\\\n",
        "\n",
        "> $T = T_0 + \\delta T$ \\\\\n",
        ">$T^* = T_0^*+\\delta T^*$ \\\\\n",
        ">$v = v_0 + \\delta v$ \\\\\n",
        "\n",
        "Putting these in the equation, we get \\\\\n",
        "\n",
        "> $\\frac{dT_0}{dt} + \\frac{d \\delta T}{dt} = s - dT0 - d\\delta t - \\beta T_0v_0 - \\beta T_0 \\delta v - \\beta v_0 \\delta T - \\beta \\delta v \\delta T$ \\\\\n",
        "\n",
        "At equilibrium, we have \\\\\n",
        ">$\\frac{dT_0}{dt} = s - dT_0-\\beta T_0v_0$ \\\\\n",
        "\n",
        "So by substitute this equation in the previous equation and linearizing, the equation becomes \\\\\n",
        "\n",
        ">$\\frac{d(\\delta T)}{dt} = -d \\delta T - \\beta T_0 \\delta v -\\beta v_0 \\delta T - \\beta \\delta v \\delta T$ \\\\\n",
        "\n",
        "Ignoring the $\\delta T \\delta v$ term, we get \\\\\n",
        "\n",
        ">$\\frac{d(\\delta T)}{dt} = -(d + \\beta v_0) \\delta T - \\beta T_0 \\delta v \\cdots (1)$ \\\\\n",
        "\n",
        "From the second equation given in the problem, putting $u_{10} = 0$ \\\\\n",
        "\n",
        ">$\\frac{d(T_0^* + \\delta T^*)}{dt} = \\beta (T_0 + \\delta T) (v_0 + \\delta v) - \\mu (T_0^* + \\delta T^*)$ \\\\\n",
        ">$\\rightarrow \\frac{dT_0^*}{dt} + \\frac{d(\\delta T^*)}{dt} = \\beta T_0v_0 + \\beta T_0 \\delta v + \\beta v_0 \\delta T + \\beta \\delta v \\delta T - \\mu T_0^* - \\mu \\delta T*$ \\\\\n",
        "\n",
        "At eqilibrium, we have \\\\\n",
        "\n",
        ">$\\frac{dT_0^*}{dt} = \\beta T_0v_0 -  \\mu T_0^*$ \\\\\n",
        "\n",
        "Putting this in the previous equation, we get \\\\\n",
        "\n",
        ">$\\frac{d(\\delta T^*)}{dt} = \\beta v_0 \\delta T - \\mu T^* + \\beta T_0 \\delta v \\cdots (2)$ \\\\\n",
        "\n",
        "From the third equation in the given problem, at equilibrium putting $u_{20} = 0$, we get \\\\\n",
        "\n",
        ">$\\frac{d(v_0 + \\delta v)}{dt} = k(T_0^* + \\delta T^*) - c(v_0 + \\delta v)$ \\\\\n",
        "\n",
        "At equilibrium, $\\frac{dv_0}{dt} = kT_0^* - cv_0$ \\\\\n",
        "\n",
        "Putting this in the previous equation, we get \\\\\n",
        "\n",
        ">$\\frac{d(\\delta v)}{dt} = k \\delta T^* - c \\delta v \\cdots (3)$ \\\\\n",
        "\n",
        "Taking $\\delta T = T, \\delta T^* = T^*$ and $ \\delta v = v$ around the equilibrium point, from equations (1), (2) and (3) we get the state space equation with zero input as \n",
        "\n",
        ">>>>>>$\\begin{align}\n",
        "\\begin{pmatrix}\n",
        "\\dot T \\\\\n",
        "\\dot {T^*} \\\\\n",
        "\\dot v \n",
        "\\end{pmatrix} & = \\begin{pmatrix}\n",
        "-(d + \\beta v_0) & 0 & - \\beta T_0 \\\\\n",
        "\\beta v_0 & -u & \\beta T_0\\\\\n",
        "0& k & -c\n",
        "\\end{pmatrix}\\begin{pmatrix}\n",
        " T \\\\\n",
        "T^* \\\\\n",
        " v \n",
        "\\end{pmatrix} \n",
        "\\end{align}$\n",
        "\n",
        "**b.** \\\\\n",
        "From the equations, let \\\\\n",
        "\n",
        ">$f_1 = s - dT- (1 - u_1) \\beta Tv$ \\\\\n",
        ">$f_2 = (1 - u_1) \\beta Tv - uT^*$ \\\\\n",
        ">$f_3 = (1 - u_2)kT^* - cv$\n",
        "\n",
        "Calculating the partial derivatives: \\\\\n",
        "\n",
        ">$\\frac{\\partial f_1}{\\partial T} \\rvert_0 = -d - (1 - u_{10} \\beta v_0)$ \\\\\n",
        ">$\\frac{\\partial f_1}{\\partial T^*} \\rvert_0 = 0$ \\\\\n",
        ">$\\frac{\\partial f_1}{\\partial v} \\rvert_0 = (1 - u_{10} \\beta v_0)$ \\\\\n",
        ">$\\frac{\\partial f_1}{\\partial u_1} \\rvert_0 = \\beta T_0v_0$ \\\\\n",
        ">$\\frac{\\partial f_1}{\\partial u_2} \\rvert_0 = 0$ \\\\\n",
        ">$\\frac{\\partial f_2}{\\partial T} \\rvert_0 = (1 - u_{10}) \\beta v_0$ \\\\\n",
        ">$\\frac{\\partial f_2}{\\partial T^*} \\rvert_0 = -u$ \\\\\n",
        ">$\\frac{\\partial f_2}{\\partial v} \\rvert_0 = (1 - u_{10}) \\beta v_0$ \\\\\n",
        ">$\\frac{\\partial f_2}{\\partial u_1} \\rvert_0 = -\\beta T_0v_0$ \\\\\n",
        ">$\\frac{\\partial f_2}{\\partial u_2} \\rvert_0 = 0$ \\\\\n",
        ">$\\frac{\\partial f_3}{\\partial T} \\rvert_0 = 0$ \\\\\n",
        ">$\\frac{\\partial f_3}{\\partial T^*} \\rvert_0 =(1 - u_{20})k$ \\\\\n",
        ">$\\frac{\\partial f_3}{\\partial v} \\rvert_0 = -c$ \\\\\n",
        ">$\\frac{\\partial f_3}{\\partial u_1} \\rvert_0 = 0$ \\\\\n",
        ">$\\frac{\\partial f_3}{\\partial u_2} \\rvert_0 = -kT_0^*$ \\\\\n",
        "\n",
        "Writing these in matrix form for matrix A and B, we get \\\\\n",
        "\n",
        ">>>>>>$\\begin{align}\n",
        "A & = \\begin{pmatrix}\n",
        "-(d + \\beta v_0) & 0 & - \\beta T_0 \\\\\n",
        "\\beta v_0 & -u & \\beta T_0\\\\\n",
        "0& k & -c\n",
        "\\end{pmatrix} \\\\ \n",
        "B &= \\begin{pmatrix}\n",
        " \\beta T_0 v_0 & 0 \\\\\n",
        " -\\beta T_0 v_0 & 0 \\\\\n",
        " 0 & -kT_0^* \n",
        "\\end{pmatrix} \n",
        "\\end{align}$ \\\\\n",
        "\n",
        "Which is exactly the **same** as what we are given in the problem. \n",
        "\n",
        "**c.** \\\\\n",
        "\n",
        "From the equilibrium conditions, we have \\\\\n",
        "\n",
        ">$T_0 = \\frac{c \\mu}{\\beta k} = \\frac{2.4 \\times 0.24}{2.4 \\times 10^{-5} \\times 100} = 240$ \\\\\n",
        ">$T_0^* = \\frac{s}{\\mu} - \\frac{cd}{\\beta k} = \\frac{10}{0.24} - \\frac{2.4 \\times 0.02}{2.4 \\times 10^{-5} \\times 100} = 21.67$ \\\\\n",
        ">$v_0 = \\frac{sk}{c \\mu} - \\frac{d}{\\beta} = \\frac{10 \\times 100}{2.4 \\times 0.24} - \\frac{0.02}{2.4 \\times 10^{-5}} = 902.77$ \\\\\n",
        "\n",
        "Substituting the values in matrix A and B, we get \\\\\n",
        "\n",
        ">>>$\\begin{align}\n",
        "\\begin{pmatrix}\n",
        "\\dot T \\\\\n",
        "\\dot {T^*} \\\\\n",
        "\\dot v \n",
        "\\end{pmatrix} & = \\begin{pmatrix}\n",
        "-0.0416 & 0 & -5.76 \\times 10^{-3} \\\\\n",
        "0.02166 & -2.4 & 5.76 \\times 10^{-3}\\\\\n",
        "0 & 100 & -2.4\n",
        "\\end{pmatrix}\\begin{pmatrix}\n",
        "\\dot T \\\\\n",
        " \\dot {T^*} \\\\\n",
        "\\dot v\n",
        "\\end{pmatrix} + \\begin{pmatrix}\n",
        "5.199 & 0 \\\\\n",
        "-5.199 & 0 \\\\\n",
        "0 & -2167\n",
        "\\end{pmatrix} \\begin{pmatrix}\n",
        "u_1 \\\\\n",
        "u_2\n",
        "\\end{pmatrix} \\\\\n",
        "y & = \\begin{pmatrix}\n",
        "0 & 0 & 1 \n",
        "\\end{pmatrix} \\begin{pmatrix}\n",
        "T \\\\\n",
        "T^* \\\\\n",
        "v\n",
        "\\end{pmatrix} \\\\\n",
        "\\end{align}$"
      ]
    },
    {
      "metadata": {
        "id": "LbrG1_0rekjo",
        "colab_type": "text"
      },
      "cell_type": "markdown",
      "source": [
        "7. Final Value Theorem\n",
        "---\n",
        "\n",
        "Using the system defined in Nise Ch 4, problem 10, find the final value of the system given a step input. Calculate this two different ways: (a) By solving for the final value directly in state space. (b) By finding the system's transfer function and computing the final value using the frequency domain method. Ok to use `sympy`. Refer to the \"Transfer Functions\" Python notebook."
      ]
    },
    {
      "metadata": {
        "id": "fUZH_WiYJ67n",
        "colab_type": "text"
      },
      "cell_type": "markdown",
      "source": [
        "# Answer\n",
        "** (a)** \\\\\n",
        "Solving the final value directly in state space, we get: \\\\"
      ]
    },
    {
      "metadata": {
        "id": "5jX1XC9lLC-1",
        "colab_type": "code",
        "outputId": "8a898e24-3119-4ddf-e651-37a769e7548f",
        "colab": {
          "base_uri": "https://localhost:8080/",
          "height": 70
        }
      },
      "cell_type": "code",
      "source": [
        "var(\"t tau\")\n",
        "A = Matrix([[3,-4,2],[-2,0,1],[4,7,-5]])\n",
        "B = Matrix([[-1],[-2],[3]])\n",
        "C = Matrix([[1,7,1]])\n",
        "x0 = Matrix([[0],[0],[0]])\n",
        "u = 1\n",
        "result = -1 * C * A.inv() * B\n",
        "result"
      ],
      "execution_count": 35,
      "outputs": [
        {
          "output_type": "display_data",
          "data": {
            "text/html": [
              "<script src='https://cdnjs.cloudflare.com/ajax/libs/mathjax/2.7.3/latest.js?config=default'></script>"
            ],
            "text/plain": [
              "<IPython.core.display.HTML object>"
            ]
          },
          "metadata": {
            "tags": []
          }
        },
        {
          "output_type": "execute_result",
          "data": {
            "text/latex": "$$\\left[\\begin{matrix}\\frac{288}{25}\\end{matrix}\\right]$$",
            "text/plain": [
              "⎡288⎤\n",
              "⎢───⎥\n",
              "⎣ 25⎦"
            ]
          },
          "metadata": {
            "tags": []
          },
          "execution_count": 35
        }
      ]
    },
    {
      "metadata": {
        "id": "gnMDypjsQvmv",
        "colab_type": "text"
      },
      "cell_type": "markdown",
      "source": [
        "**(b)** \\\\\n",
        "Another approach: finding the system's transfer function"
      ]
    },
    {
      "metadata": {
        "id": "fWOL7DzJekjp",
        "colab_type": "code",
        "outputId": "122e36a6-7043-40eb-87cf-1fe7318232ab",
        "colab": {
          "base_uri": "https://localhost:8080/",
          "height": 34
        }
      },
      "cell_type": "code",
      "source": [
        "var(\"s\")\n",
        "A = Matrix([[3,-4,2],[-2,0,1],[4,7,-5]])\n",
        "B = Matrix([[-1],[-2],[3]])\n",
        "C = Matrix([[1,7,1]])\n",
        "Phi = (s*eye(3)-A).inv()\n",
        "T = C*Phi*B\n",
        "T.simplify()\n",
        "T"
      ],
      "execution_count": 0,
      "outputs": [
        {
          "output_type": "display_data",
          "data": {
            "text/html": [
              "<script src='https://cdnjs.cloudflare.com/ajax/libs/mathjax/2.7.3/latest.js?config=default'></script>"
            ],
            "text/plain": [
              "<IPython.core.display.HTML object>"
            ]
          },
          "metadata": {
            "tags": []
          }
        },
        {
          "output_type": "execute_result",
          "data": {
            "text/latex": "$$\\left[\\begin{matrix}\\frac{- 12 s^{2} - 11 s + 288}{s^{3} + 2 s^{2} - 38 s + 25}\\end{matrix}\\right]$$",
            "text/plain": [
              "⎡       2             ⎤\n",
              "⎢ - 12⋅s  - 11⋅s + 288⎥\n",
              "⎢─────────────────────⎥\n",
              "⎢ 3      2            ⎥\n",
              "⎣s  + 2⋅s  - 38⋅s + 25⎦"
            ]
          },
          "metadata": {
            "tags": []
          },
          "execution_count": 4
        }
      ]
    },
    {
      "metadata": {
        "id": "7pYqyJ43Rf0j",
        "colab_type": "text"
      },
      "cell_type": "markdown",
      "source": [
        "From what we know about Laplace transforms, $U(s) = 1/s$. \n",
        "\n",
        "Then the response of a system to a step input is\n",
        "\n",
        "$$\n",
        "T(s) = \\frac{Y(s)}{U(s)}\n",
        "$$\n",
        "\n",
        "Which in this case is\n",
        "\n",
        "$$\n",
        "Y(s) = \\frac{1}{s}T(s)\n",
        "$$\n",
        "\n",
        "Then the response of the system $T(s)$ to a step input is\n",
        "\n",
        "$$\n",
        "Y(s) = \\frac{1}{s} (\\frac{-12s^2-11s+288}{s^3+2s^2-38s+25})\n",
        "$$\n",
        "\n",
        "And as $t \\rightarrow \\infty$ we get\n",
        "\n",
        "$$\\fbox{$\n",
        "\\lim_{s \\rightarrow 0} s Y(s) = \\lim_{s \\rightarrow 0} (\\frac{-12s^2-11s+288}{s^3+2s^2-38s+25}) = \\frac{288}{25}\n",
        "$}$$ \\\\\n",
        "\n",
        "Checking : (a) and (b) we got the same final value."
      ]
    }
  ]
}